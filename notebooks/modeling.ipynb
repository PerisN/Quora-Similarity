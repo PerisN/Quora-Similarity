{
  "cells": [
    {
      "cell_type": "code",
      "execution_count": null,
      "metadata": {
        "id": "QmLhG-bovddd"
      },
      "outputs": [],
      "source": [
        "# Import Libraries\n",
        "\n",
        "import pandas as pd\n",
        "import numpy as np\n",
        "\n",
        "from sklearn.preprocessing import MinMaxScaler\n",
        "from sklearn.linear_model import LogisticRegression\n",
        "from sklearn.ensemble import VotingClassifier\n",
        "from sklearn.metrics import accuracy_score\n",
        "from sklearn.metrics import classification_report, log_loss\n",
        "import xgboost as xgb\n",
        "from xgboost import XGBClassifier\n",
        "from lightgbm import LGBMClassifier\n",
        "from sklearn.ensemble import RandomForestClassifier\n",
        "\n",
        "import imblearn\n",
        "from imblearn.over_sampling import SMOTE"
      ]
    },
    {
      "cell_type": "code",
      "execution_count": null,
      "metadata": {
        "id": "7E0qqUhPv78b"
      },
      "outputs": [],
      "source": [
        "# Load preprocessed data\n",
        "\n",
        "train_df = pd.read_csv('/content/drive/MyDrive/train_cleaned.csv')\n",
        "test_df = pd.read_csv('/content/drive/MyDrive/test_cleaned.csv')"
      ]
    },
    {
      "cell_type": "code",
      "execution_count": null,
      "metadata": {
        "colab": {
          "base_uri": "https://localhost:8080/"
        },
        "id": "ZceNV39HL2CC",
        "outputId": "8c1b16b5-4503-4bcc-8a4c-14a0817237b0"
      },
      "outputs": [
        {
          "name": "stdout",
          "output_type": "stream",
          "text": [
            "Index(['qid1', 'qid2', 'question1', 'question2', 'question1_len',\n",
            "       'question2_len', 'question_len_diff', 'is_duplicate', 'tokens_q1',\n",
            "       'pos_tags_q1', 'tokens_q2', 'pos_tags_q2', 'tokens_q1_len',\n",
            "       'tokens_q2_len', 'tokens_len_diff', 'word_overlap', 'bigram_similarity',\n",
            "       'trigram_similarity', 'jaccard_similarity', 'levenshtein_distance',\n",
            "       'fuzzy_ratio', 'token_set_ratio', 'token_sort_ratio',\n",
            "       'cosine_similarity', 'word_similarity'],\n",
            "      dtype='object')\n",
            "Index(['qid1', 'qid2', 'question1', 'question2', 'question1_len',\n",
            "       'question2_len', 'question_len_diff', 'is_duplicate', 'tokens_q1',\n",
            "       'pos_tags_q1', 'tokens_q2', 'pos_tags_q2', 'tokens_q1_len',\n",
            "       'tokens_q2_len', 'tokens_len_diff', 'word_overlap', 'bigram_similarity',\n",
            "       'trigram_similarity', 'jaccard_similarity', 'levenshtein_distance',\n",
            "       'fuzzy_ratio', 'token_set_ratio', 'token_sort_ratio',\n",
            "       'cosine_similarity', 'word_similarity'],\n",
            "      dtype='object')\n"
          ]
        }
      ],
      "source": [
        "print(train_df.columns)\n",
        "print(test_df.columns)"
      ]
    },
    {
      "cell_type": "code",
      "execution_count": null,
      "metadata": {
        "colab": {
          "base_uri": "https://localhost:8080/"
        },
        "id": "jKMqDeFhrZvm",
        "outputId": "a6275f11-1d7d-45d6-99f2-450727f480e2"
      },
      "outputs": [
        {
          "data": {
            "text/plain": [
              "((282898, 25), (121246, 25))"
            ]
          },
          "execution_count": 4,
          "metadata": {},
          "output_type": "execute_result"
        }
      ],
      "source": [
        "train_df.shape, test_df.shape"
      ]
    },
    {
      "cell_type": "code",
      "execution_count": null,
      "metadata": {
        "colab": {
          "base_uri": "https://localhost:8080/"
        },
        "id": "UuHNjRwtMUv7",
        "outputId": "0b6a0345-3072-4361-8ee1-26e7c9e9d21c"
      },
      "outputs": [
        {
          "name": "stdout",
          "output_type": "stream",
          "text": [
            "Training set shape: (282898, 16)\n",
            "Test set shape: (121246, 16)\n"
          ]
        }
      ],
      "source": [
        "# Assign X and y for training and test data\n",
        "x_train = train_df.drop(['qid1', 'qid2','is_duplicate','question1', 'question2', 'tokens_q1',\n",
        "       'pos_tags_q1', 'tokens_q2', 'pos_tags_q2'], axis = 1)\n",
        "y_train = train_df['is_duplicate']\n",
        "\n",
        "x_test = test_df.drop(['qid1', 'qid2','is_duplicate', 'question1', 'question2', 'tokens_q1',\n",
        "       'pos_tags_q1', 'tokens_q2', 'pos_tags_q2'], axis = 1)\n",
        "y_test = test_df['is_duplicate']\n",
        "\n",
        "# Print the shapes of the resulting sets\n",
        "print(\"Training set shape:\", x_train.shape)\n",
        "print(\"Test set shape:\", x_test.shape)"
      ]
    },
    {
      "cell_type": "code",
      "execution_count": null,
      "metadata": {
        "colab": {
          "base_uri": "https://localhost:8080/"
        },
        "id": "2fctxSxqxTgr",
        "outputId": "80f361fe-2422-4498-cec2-79461f81bd52"
      },
      "outputs": [
        {
          "data": {
            "text/plain": [
              "0    178417\n",
              "1    178417\n",
              "Name: is_duplicate, dtype: int64"
            ]
          },
          "execution_count": 6,
          "metadata": {},
          "output_type": "execute_result"
        }
      ],
      "source": [
        "# Handling imbalanced data\n",
        "\n",
        "smote = SMOTE(random_state=42)\n",
        "x_train_balanced, y_train_balanced =smote.fit_resample(x_train, y_train)\n",
        "y_train_balanced.value_counts()"
      ]
    },
    {
      "cell_type": "code",
      "execution_count": null,
      "metadata": {
        "id": "dhCsV7zRxbGE"
      },
      "outputs": [],
      "source": [
        "scaler = MinMaxScaler() # Transforming the features into the range[0,1]\n",
        "\n",
        "X_train = scaler.fit_transform(x_train_balanced) \n",
        "X_test = scaler.transform(x_test)"
      ]
    },
    {
      "cell_type": "markdown",
      "metadata": {
        "id": "igqk9G8XVNEd"
      },
      "source": [
        "# **Modeling**\n",
        "\n",
        "---\n",
        "\n"
      ]
    },
    {
      "cell_type": "markdown",
      "metadata": {
        "id": "q33EMd-BV-Up"
      },
      "source": [
        "### **XGBoost Classifier**"
      ]
    },
    {
      "cell_type": "code",
      "execution_count": null,
      "metadata": {
        "id": "-Y2uMsYq1FBh"
      },
      "outputs": [],
      "source": [
        "# Initialize and train the XGBoost model\n",
        "\n",
        "xgb = XGBClassifier()\n",
        "xgb.fit(X_train, y_train_balanced);"
      ]
    },
    {
      "cell_type": "markdown",
      "metadata": {
        "id": "H2RzLXXa05Bk"
      },
      "source": [
        "Evaluation on the train set"
      ]
    },
    {
      "cell_type": "code",
      "execution_count": null,
      "metadata": {
        "colab": {
          "base_uri": "https://localhost:8080/"
        },
        "id": "YgmgVqtlwmrE",
        "outputId": "98d292c3-056d-4379-8f16-0035b4657edd"
      },
      "outputs": [
        {
          "name": "stdout",
          "output_type": "stream",
          "text": [
            "Accuracy: 0.8073922328029279\n",
            "Log Loss: 0.37452232079958475\n",
            "              precision    recall  f1-score   support\n",
            "\n",
            "           0       0.84      0.76      0.80    178417\n",
            "           1       0.78      0.85      0.82    178417\n",
            "\n",
            "    accuracy                           0.81    356834\n",
            "   macro avg       0.81      0.81      0.81    356834\n",
            "weighted avg       0.81      0.81      0.81    356834\n",
            "\n"
          ]
        }
      ],
      "source": [
        "# Predict probabilities on the train set\n",
        "y_train_pred_proba1 = xgb.predict_proba(X_train)\n",
        "\n",
        "# Predict classes on the train set\n",
        "y_train_pred1 = xgb.predict(X_train)\n",
        "\n",
        "# Accuracy\n",
        "train_accuracy1 = accuracy_score(y_train_balanced, y_train_pred1)\n",
        "print(\"Accuracy:\", train_accuracy1)\n",
        "\n",
        "# Log loss\n",
        "train_log_loss_score1 = log_loss(y_train_balanced, y_train_pred_proba1)\n",
        "print(\"Log Loss:\", train_log_loss_score1)\n",
        "\n",
        "# Generate the classification report\n",
        "train_report1 = classification_report(y_train_balanced, y_train_pred1)\n",
        "print(train_report1)"
      ]
    },
    {
      "cell_type": "markdown",
      "metadata": {
        "id": "0Con6T092LCY"
      },
      "source": [
        "Evaluation on the test set"
      ]
    },
    {
      "cell_type": "code",
      "execution_count": null,
      "metadata": {
        "colab": {
          "base_uri": "https://localhost:8080/"
        },
        "id": "b6kPR9_B1AAR",
        "outputId": "afb3a328-734a-4420-8c26-8182d6ab1b7f"
      },
      "outputs": [
        {
          "name": "stdout",
          "output_type": "stream",
          "text": [
            "Accuracy: 0.7481154017452122\n",
            "Log Loss: 0.46420163770898704\n",
            "              precision    recall  f1-score   support\n",
            "\n",
            "           0       0.83      0.75      0.79     76468\n",
            "           1       0.64      0.75      0.69     44778\n",
            "\n",
            "    accuracy                           0.75    121246\n",
            "   macro avg       0.73      0.75      0.74    121246\n",
            "weighted avg       0.76      0.75      0.75    121246\n",
            "\n"
          ]
        }
      ],
      "source": [
        "# Predict probabilities on the test set\n",
        "y_test_pred_proba1 = xgb.predict_proba(X_test)\n",
        "\n",
        "# Predict classes on the train set\n",
        "y_test_pred1 = xgb.predict(X_test)\n",
        "\n",
        "# Accuracy\n",
        "test_accuracy1 = accuracy_score(y_test, y_test_pred1)\n",
        "print(\"Accuracy:\", test_accuracy1)\n",
        "\n",
        "# Log loss\n",
        "test_log_loss_score1 = log_loss(y_test, y_test_pred_proba1)\n",
        "print(\"Log Loss:\", test_log_loss_score1)\n",
        "\n",
        "# Generate the classification report\n",
        "test_report1 = classification_report(y_test, y_test_pred1)\n",
        "print(test_report1)"
      ]
    },
    {
      "cell_type": "markdown",
      "metadata": {
        "id": "gxn5jgEdVR0L"
      },
      "source": [
        "### **LGBM Classifier**"
      ]
    },
    {
      "cell_type": "code",
      "execution_count": null,
      "metadata": {
        "colab": {
          "base_uri": "https://localhost:8080/",
          "height": 75
        },
        "id": "rITMcAVP20_u",
        "outputId": "00f17ef4-66d6-488b-80c0-f9188677b418"
      },
      "outputs": [
        {
          "data": {
            "text/html": [
              "<style>#sk-container-id-1 {color: black;background-color: white;}#sk-container-id-1 pre{padding: 0;}#sk-container-id-1 div.sk-toggleable {background-color: white;}#sk-container-id-1 label.sk-toggleable__label {cursor: pointer;display: block;width: 100%;margin-bottom: 0;padding: 0.3em;box-sizing: border-box;text-align: center;}#sk-container-id-1 label.sk-toggleable__label-arrow:before {content: \"▸\";float: left;margin-right: 0.25em;color: #696969;}#sk-container-id-1 label.sk-toggleable__label-arrow:hover:before {color: black;}#sk-container-id-1 div.sk-estimator:hover label.sk-toggleable__label-arrow:before {color: black;}#sk-container-id-1 div.sk-toggleable__content {max-height: 0;max-width: 0;overflow: hidden;text-align: left;background-color: #f0f8ff;}#sk-container-id-1 div.sk-toggleable__content pre {margin: 0.2em;color: black;border-radius: 0.25em;background-color: #f0f8ff;}#sk-container-id-1 input.sk-toggleable__control:checked~div.sk-toggleable__content {max-height: 200px;max-width: 100%;overflow: auto;}#sk-container-id-1 input.sk-toggleable__control:checked~label.sk-toggleable__label-arrow:before {content: \"▾\";}#sk-container-id-1 div.sk-estimator input.sk-toggleable__control:checked~label.sk-toggleable__label {background-color: #d4ebff;}#sk-container-id-1 div.sk-label input.sk-toggleable__control:checked~label.sk-toggleable__label {background-color: #d4ebff;}#sk-container-id-1 input.sk-hidden--visually {border: 0;clip: rect(1px 1px 1px 1px);clip: rect(1px, 1px, 1px, 1px);height: 1px;margin: -1px;overflow: hidden;padding: 0;position: absolute;width: 1px;}#sk-container-id-1 div.sk-estimator {font-family: monospace;background-color: #f0f8ff;border: 1px dotted black;border-radius: 0.25em;box-sizing: border-box;margin-bottom: 0.5em;}#sk-container-id-1 div.sk-estimator:hover {background-color: #d4ebff;}#sk-container-id-1 div.sk-parallel-item::after {content: \"\";width: 100%;border-bottom: 1px solid gray;flex-grow: 1;}#sk-container-id-1 div.sk-label:hover label.sk-toggleable__label {background-color: #d4ebff;}#sk-container-id-1 div.sk-serial::before {content: \"\";position: absolute;border-left: 1px solid gray;box-sizing: border-box;top: 0;bottom: 0;left: 50%;z-index: 0;}#sk-container-id-1 div.sk-serial {display: flex;flex-direction: column;align-items: center;background-color: white;padding-right: 0.2em;padding-left: 0.2em;position: relative;}#sk-container-id-1 div.sk-item {position: relative;z-index: 1;}#sk-container-id-1 div.sk-parallel {display: flex;align-items: stretch;justify-content: center;background-color: white;position: relative;}#sk-container-id-1 div.sk-item::before, #sk-container-id-1 div.sk-parallel-item::before {content: \"\";position: absolute;border-left: 1px solid gray;box-sizing: border-box;top: 0;bottom: 0;left: 50%;z-index: -1;}#sk-container-id-1 div.sk-parallel-item {display: flex;flex-direction: column;z-index: 1;position: relative;background-color: white;}#sk-container-id-1 div.sk-parallel-item:first-child::after {align-self: flex-end;width: 50%;}#sk-container-id-1 div.sk-parallel-item:last-child::after {align-self: flex-start;width: 50%;}#sk-container-id-1 div.sk-parallel-item:only-child::after {width: 0;}#sk-container-id-1 div.sk-dashed-wrapped {border: 1px dashed gray;margin: 0 0.4em 0.5em 0.4em;box-sizing: border-box;padding-bottom: 0.4em;background-color: white;}#sk-container-id-1 div.sk-label label {font-family: monospace;font-weight: bold;display: inline-block;line-height: 1.2em;}#sk-container-id-1 div.sk-label-container {text-align: center;}#sk-container-id-1 div.sk-container {/* jupyter's `normalize.less` sets `[hidden] { display: none; }` but bootstrap.min.css set `[hidden] { display: none !important; }` so we also need the `!important` here to be able to override the default hidden behavior on the sphinx rendered scikit-learn.org. See: https://github.com/scikit-learn/scikit-learn/issues/21755 */display: inline-block !important;position: relative;}#sk-container-id-1 div.sk-text-repr-fallback {display: none;}</style><div id=\"sk-container-id-1\" class=\"sk-top-container\"><div class=\"sk-text-repr-fallback\"><pre>LGBMClassifier()</pre><b>In a Jupyter environment, please rerun this cell to show the HTML representation or trust the notebook. <br />On GitHub, the HTML representation is unable to render, please try loading this page with nbviewer.org.</b></div><div class=\"sk-container\" hidden><div class=\"sk-item\"><div class=\"sk-estimator sk-toggleable\"><input class=\"sk-toggleable__control sk-hidden--visually\" id=\"sk-estimator-id-1\" type=\"checkbox\" checked><label for=\"sk-estimator-id-1\" class=\"sk-toggleable__label sk-toggleable__label-arrow\">LGBMClassifier</label><div class=\"sk-toggleable__content\"><pre>LGBMClassifier()</pre></div></div></div></div></div>"
            ],
            "text/plain": [
              "LGBMClassifier()"
            ]
          },
          "execution_count": 11,
          "metadata": {},
          "output_type": "execute_result"
        }
      ],
      "source": [
        "# Initialize and train the LightGBM model\n",
        "\n",
        "lgbm = LGBMClassifier()\n",
        "lgbm.fit(X_train, y_train_balanced)"
      ]
    },
    {
      "cell_type": "markdown",
      "metadata": {
        "id": "ZzqT6WSO20aB"
      },
      "source": [
        "Evaluation on train set "
      ]
    },
    {
      "cell_type": "code",
      "execution_count": null,
      "metadata": {
        "colab": {
          "base_uri": "https://localhost:8080/"
        },
        "id": "fW3XM-t728Nu",
        "outputId": "b9518f40-eec2-4df7-9461-71442aead033"
      },
      "outputs": [
        {
          "name": "stdout",
          "output_type": "stream",
          "text": [
            "Accuracy: 0.8259358693398051\n",
            "Log Loss: 0.35444490921190647\n",
            "              precision    recall  f1-score   support\n",
            "\n",
            "           0       0.84      0.80      0.82    178417\n",
            "           1       0.81      0.85      0.83    178417\n",
            "\n",
            "    accuracy                           0.83    356834\n",
            "   macro avg       0.83      0.83      0.83    356834\n",
            "weighted avg       0.83      0.83      0.83    356834\n",
            "\n"
          ]
        }
      ],
      "source": [
        "# Predict probabilities on the train set\n",
        "y_train_pred_proba2 = lgbm.predict_proba(X_train)\n",
        "\n",
        "# Predict classes on the train set\n",
        "y_train_pred2 = lgbm.predict(X_train)\n",
        "\n",
        "# Accuracy\n",
        "train_accuracy2 = accuracy_score(y_train_balanced, y_train_pred2)\n",
        "print(\"Accuracy:\", train_accuracy2)\n",
        "\n",
        "# Log loss\n",
        "train_log_loss_score2 = log_loss(y_train_balanced, y_train_pred_proba2)\n",
        "print(\"Log Loss:\", train_log_loss_score2)\n",
        "\n",
        "# Generate the classification report\n",
        "train_report2 = classification_report(y_train_balanced, y_train_pred2)\n",
        "print(train_report2)"
      ]
    },
    {
      "cell_type": "markdown",
      "metadata": {
        "id": "VNEJmJR23jLm"
      },
      "source": [
        "Evaluation on the test set"
      ]
    },
    {
      "cell_type": "code",
      "execution_count": null,
      "metadata": {
        "colab": {
          "base_uri": "https://localhost:8080/"
        },
        "id": "3MJS2xRO3QzX",
        "outputId": "656b3896-82b9-4d41-cb27-9050112caf5b"
      },
      "outputs": [
        {
          "name": "stdout",
          "output_type": "stream",
          "text": [
            "Accuracy: 0.7823680781221648\n",
            "Log Loss: 0.4252285580598777\n",
            "              precision    recall  f1-score   support\n",
            "\n",
            "           0       0.85      0.80      0.82     76468\n",
            "           1       0.69      0.75      0.72     44778\n",
            "\n",
            "    accuracy                           0.78    121246\n",
            "   macro avg       0.77      0.78      0.77    121246\n",
            "weighted avg       0.79      0.78      0.78    121246\n",
            "\n"
          ]
        }
      ],
      "source": [
        "# Predict probabilities on the test set\n",
        "y_test_pred_proba2 = lgbm.predict_proba(X_test)\n",
        "\n",
        "# Predict classes on the train set\n",
        "y_test_pred2 = lgbm.predict(X_test)\n",
        "\n",
        "# Accuracy\n",
        "test_accuracy2 = accuracy_score(y_test, y_test_pred2)\n",
        "print(\"Accuracy:\", test_accuracy2)\n",
        "\n",
        "# Log loss\n",
        "test_log_loss_score2 = log_loss(y_test, y_test_pred_proba2)\n",
        "print(\"Log Loss:\", test_log_loss_score2)\n",
        "\n",
        "# Generate the classification report\n",
        "test_report2 = classification_report(y_test, y_test_pred2)\n",
        "print(test_report2)"
      ]
    },
    {
      "cell_type": "markdown",
      "metadata": {
        "id": "y7HZhi94fX68"
      },
      "source": [
        "### **Random Forest Classifier**"
      ]
    },
    {
      "cell_type": "code",
      "execution_count": null,
      "metadata": {
        "colab": {
          "base_uri": "https://localhost:8080/",
          "height": 75
        },
        "id": "HUWDOIMd4H5H",
        "outputId": "d5e6c43d-5541-4a13-c1d7-a13ba9fa643c"
      },
      "outputs": [
        {
          "data": {
            "text/html": [
              "<style>#sk-container-id-2 {color: black;background-color: white;}#sk-container-id-2 pre{padding: 0;}#sk-container-id-2 div.sk-toggleable {background-color: white;}#sk-container-id-2 label.sk-toggleable__label {cursor: pointer;display: block;width: 100%;margin-bottom: 0;padding: 0.3em;box-sizing: border-box;text-align: center;}#sk-container-id-2 label.sk-toggleable__label-arrow:before {content: \"▸\";float: left;margin-right: 0.25em;color: #696969;}#sk-container-id-2 label.sk-toggleable__label-arrow:hover:before {color: black;}#sk-container-id-2 div.sk-estimator:hover label.sk-toggleable__label-arrow:before {color: black;}#sk-container-id-2 div.sk-toggleable__content {max-height: 0;max-width: 0;overflow: hidden;text-align: left;background-color: #f0f8ff;}#sk-container-id-2 div.sk-toggleable__content pre {margin: 0.2em;color: black;border-radius: 0.25em;background-color: #f0f8ff;}#sk-container-id-2 input.sk-toggleable__control:checked~div.sk-toggleable__content {max-height: 200px;max-width: 100%;overflow: auto;}#sk-container-id-2 input.sk-toggleable__control:checked~label.sk-toggleable__label-arrow:before {content: \"▾\";}#sk-container-id-2 div.sk-estimator input.sk-toggleable__control:checked~label.sk-toggleable__label {background-color: #d4ebff;}#sk-container-id-2 div.sk-label input.sk-toggleable__control:checked~label.sk-toggleable__label {background-color: #d4ebff;}#sk-container-id-2 input.sk-hidden--visually {border: 0;clip: rect(1px 1px 1px 1px);clip: rect(1px, 1px, 1px, 1px);height: 1px;margin: -1px;overflow: hidden;padding: 0;position: absolute;width: 1px;}#sk-container-id-2 div.sk-estimator {font-family: monospace;background-color: #f0f8ff;border: 1px dotted black;border-radius: 0.25em;box-sizing: border-box;margin-bottom: 0.5em;}#sk-container-id-2 div.sk-estimator:hover {background-color: #d4ebff;}#sk-container-id-2 div.sk-parallel-item::after {content: \"\";width: 100%;border-bottom: 1px solid gray;flex-grow: 1;}#sk-container-id-2 div.sk-label:hover label.sk-toggleable__label {background-color: #d4ebff;}#sk-container-id-2 div.sk-serial::before {content: \"\";position: absolute;border-left: 1px solid gray;box-sizing: border-box;top: 0;bottom: 0;left: 50%;z-index: 0;}#sk-container-id-2 div.sk-serial {display: flex;flex-direction: column;align-items: center;background-color: white;padding-right: 0.2em;padding-left: 0.2em;position: relative;}#sk-container-id-2 div.sk-item {position: relative;z-index: 1;}#sk-container-id-2 div.sk-parallel {display: flex;align-items: stretch;justify-content: center;background-color: white;position: relative;}#sk-container-id-2 div.sk-item::before, #sk-container-id-2 div.sk-parallel-item::before {content: \"\";position: absolute;border-left: 1px solid gray;box-sizing: border-box;top: 0;bottom: 0;left: 50%;z-index: -1;}#sk-container-id-2 div.sk-parallel-item {display: flex;flex-direction: column;z-index: 1;position: relative;background-color: white;}#sk-container-id-2 div.sk-parallel-item:first-child::after {align-self: flex-end;width: 50%;}#sk-container-id-2 div.sk-parallel-item:last-child::after {align-self: flex-start;width: 50%;}#sk-container-id-2 div.sk-parallel-item:only-child::after {width: 0;}#sk-container-id-2 div.sk-dashed-wrapped {border: 1px dashed gray;margin: 0 0.4em 0.5em 0.4em;box-sizing: border-box;padding-bottom: 0.4em;background-color: white;}#sk-container-id-2 div.sk-label label {font-family: monospace;font-weight: bold;display: inline-block;line-height: 1.2em;}#sk-container-id-2 div.sk-label-container {text-align: center;}#sk-container-id-2 div.sk-container {/* jupyter's `normalize.less` sets `[hidden] { display: none; }` but bootstrap.min.css set `[hidden] { display: none !important; }` so we also need the `!important` here to be able to override the default hidden behavior on the sphinx rendered scikit-learn.org. See: https://github.com/scikit-learn/scikit-learn/issues/21755 */display: inline-block !important;position: relative;}#sk-container-id-2 div.sk-text-repr-fallback {display: none;}</style><div id=\"sk-container-id-2\" class=\"sk-top-container\"><div class=\"sk-text-repr-fallback\"><pre>RandomForestClassifier()</pre><b>In a Jupyter environment, please rerun this cell to show the HTML representation or trust the notebook. <br />On GitHub, the HTML representation is unable to render, please try loading this page with nbviewer.org.</b></div><div class=\"sk-container\" hidden><div class=\"sk-item\"><div class=\"sk-estimator sk-toggleable\"><input class=\"sk-toggleable__control sk-hidden--visually\" id=\"sk-estimator-id-2\" type=\"checkbox\" checked><label for=\"sk-estimator-id-2\" class=\"sk-toggleable__label sk-toggleable__label-arrow\">RandomForestClassifier</label><div class=\"sk-toggleable__content\"><pre>RandomForestClassifier()</pre></div></div></div></div></div>"
            ],
            "text/plain": [
              "RandomForestClassifier()"
            ]
          },
          "execution_count": 14,
          "metadata": {},
          "output_type": "execute_result"
        }
      ],
      "source": [
        "# Initialize and train the Random Forest model\n",
        "\n",
        "rf = RandomForestClassifier()\n",
        "rf.fit(X_train, y_train_balanced)"
      ]
    },
    {
      "cell_type": "markdown",
      "metadata": {
        "id": "0KKCGGCO4JVL"
      },
      "source": [
        "Evaluation on the train set"
      ]
    },
    {
      "cell_type": "code",
      "execution_count": null,
      "metadata": {
        "colab": {
          "base_uri": "https://localhost:8080/"
        },
        "id": "YnC7du984d8X",
        "outputId": "dfb500dd-d99d-4ad8-e06a-cea8649ef2b5"
      },
      "outputs": [
        {
          "name": "stdout",
          "output_type": "stream",
          "text": [
            "Accuracy: 0.9999831854587847\n",
            "Log Loss: 0.09951146064144453\n",
            "              precision    recall  f1-score   support\n",
            "\n",
            "           0       1.00      1.00      1.00    178417\n",
            "           1       1.00      1.00      1.00    178417\n",
            "\n",
            "    accuracy                           1.00    356834\n",
            "   macro avg       1.00      1.00      1.00    356834\n",
            "weighted avg       1.00      1.00      1.00    356834\n",
            "\n"
          ]
        }
      ],
      "source": [
        "# Predict probabilities on the train set\n",
        "y_train_pred_proba3 = rf.predict_proba(X_train)\n",
        "\n",
        "# Predict classes on the train set\n",
        "y_train_pred3 = rf.predict(X_train)\n",
        "\n",
        "# Accuracy\n",
        "train_accuracy3 = accuracy_score(y_train_balanced, y_train_pred3)\n",
        "print(\"Accuracy:\", train_accuracy3)\n",
        "\n",
        "# Log loss\n",
        "train_log_loss_score3 = log_loss(y_train_balanced, y_train_pred_proba3)\n",
        "print(\"Log Loss:\", train_log_loss_score3)\n",
        "\n",
        "# Generate the classification report\n",
        "train_report3 = classification_report(y_train_balanced, y_train_pred3)\n",
        "print(train_report3)"
      ]
    },
    {
      "cell_type": "markdown",
      "metadata": {
        "id": "Y0AIh7w948UZ"
      },
      "source": [
        "Evaluation on test set"
      ]
    },
    {
      "cell_type": "code",
      "execution_count": null,
      "metadata": {
        "colab": {
          "base_uri": "https://localhost:8080/"
        },
        "id": "5IFmvamW4uly",
        "outputId": "baabe7c4-3df1-4af7-a573-4b252821b90e"
      },
      "outputs": [
        {
          "name": "stdout",
          "output_type": "stream",
          "text": [
            "Accuracy: 0.7911353776619435\n",
            "Log Loss: 0.4242468063529653\n",
            "              precision    recall  f1-score   support\n",
            "\n",
            "           0       0.85      0.81      0.83     76468\n",
            "           1       0.70      0.76      0.73     44778\n",
            "\n",
            "    accuracy                           0.79    121246\n",
            "   macro avg       0.78      0.78      0.78    121246\n",
            "weighted avg       0.80      0.79      0.79    121246\n",
            "\n"
          ]
        }
      ],
      "source": [
        "# Predict probabilities on the test set\n",
        "y_test_pred_proba3 = rf.predict_proba(X_test)\n",
        "\n",
        "# Predict classes on the train set\n",
        "y_test_pred3 = rf.predict(X_test)\n",
        "\n",
        "# Accuracy\n",
        "test_accuracy3 = accuracy_score(y_test, y_test_pred3)\n",
        "print(\"Accuracy:\", test_accuracy3)\n",
        "\n",
        "# Log loss\n",
        "test_log_loss_score3 = log_loss(y_test, y_test_pred_proba3)\n",
        "print(\"Log Loss:\", test_log_loss_score3)\n",
        "\n",
        "# Generate the classification report\n",
        "test_report3 = classification_report(y_test, y_test_pred3)\n",
        "print(test_report3)"
      ]
    },
    {
      "cell_type": "markdown",
      "metadata": {
        "id": "5a14npIVewlN"
      },
      "source": [
        "### **Ensemble**"
      ]
    },
    {
      "cell_type": "code",
      "execution_count": null,
      "metadata": {
        "colab": {
          "base_uri": "https://localhost:8080/"
        },
        "id": "9hqSMoWgvxJn",
        "outputId": "34b8e5fa-4265-4e25-9f6f-8bcab975c1db"
      },
      "outputs": [
        {
          "name": "stdout",
          "output_type": "stream",
          "text": [
            "Train Accuracy: 0.9256432963226598\n",
            "Train Log Loss: 0.23548461224602282\n",
            "Train Classification Report:\n",
            "              precision    recall  f1-score   support\n",
            "\n",
            "           0       0.93      0.92      0.92    178417\n",
            "           1       0.92      0.94      0.93    178417\n",
            "\n",
            "    accuracy                           0.93    356834\n",
            "   macro avg       0.93      0.93      0.93    356834\n",
            "weighted avg       0.93      0.93      0.93    356834\n",
            "\n",
            "Test Accuracy: 0.7928838889530376\n",
            "Test Log Loss: 0.41113686286841183\n",
            "Test Classification Report:\n",
            "              precision    recall  f1-score   support\n",
            "\n",
            "           0       0.85      0.81      0.83     76468\n",
            "           1       0.70      0.77      0.73     44778\n",
            "\n",
            "    accuracy                           0.79    121246\n",
            "   macro avg       0.78      0.79      0.78    121246\n",
            "weighted avg       0.80      0.79      0.79    121246\n",
            "\n"
          ]
        }
      ],
      "source": [
        "# Create the ensemble classifier\n",
        "ensemble_classifier = VotingClassifier(\n",
        "    estimators=[('lgbm', lgbm), ('xgboost', xgb), ('rf', rf)],\n",
        "    voting='soft'  # Voting method: 'hard' for majority voting, 'soft' for weighted voting based on probabilities\n",
        ")\n",
        "\n",
        "# Train the ensemble classifier\n",
        "ensemble_classifier.fit(X_train, y_train_balanced)\n",
        "  \n",
        "# Make predictions on the traina and test set\n",
        "ensemble_predictions_proba_train = ensemble_classifier.predict_proba(X_train)\n",
        "ensemble_predictions_train = ensemble_classifier.predict(X_train)\n",
        "\n",
        "ensemble_predictions_proba_test = ensemble_classifier.predict_proba(X_test)\n",
        "ensemble_predictions_test = ensemble_classifier.predict(X_test)\n",
        "\n",
        "# Evaluate performance on train set\n",
        "accuracy_train = accuracy_score(y_train_balanced, ensemble_predictions_train)\n",
        "log_loss_train = log_loss(y_train_balanced, ensemble_predictions_proba_train)\n",
        "report_train = classification_report(y_train_balanced, ensemble_predictions_train)\n",
        "\n",
        "print(\"Train Accuracy:\", accuracy_train)\n",
        "print(\"Train Log Loss:\", log_loss_train)\n",
        "print(\"Train Classification Report:\")\n",
        "print(report_train)\n",
        "\n",
        "# Evaluate performance on test set\n",
        "accuracy_test = accuracy_score(y_test, ensemble_predictions_test)\n",
        "log_loss_test = log_loss(y_test, ensemble_predictions_proba_test)\n",
        "report_test = classification_report(y_test, ensemble_predictions_test)\n",
        "\n",
        "print(\"Test Accuracy:\", accuracy_test)\n",
        "print(\"Test Log Loss:\", log_loss_test)\n",
        "print(\"Test Classification Report:\")\n",
        "print(report_test)\n"
      ]
    }
  ],
  "metadata": {
    "colab": {
      "provenance": []
    },
    "kernelspec": {
      "display_name": "Python 3",
      "name": "python3"
    },
    "language_info": {
      "name": "python"
    }
  },
  "nbformat": 4,
  "nbformat_minor": 0
}
